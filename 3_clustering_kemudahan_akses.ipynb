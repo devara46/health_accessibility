{
 "cells": [
  {
   "cell_type": "code",
   "execution_count": 1,
   "id": "4018bee7-f266-4a4a-a59f-f2b8e714ca89",
   "metadata": {},
   "outputs": [],
   "source": [
    "import matplotlib.pyplot as plt\n",
    "import pandas as pd\n",
    "import geopandas as gpd\n",
    "import os\n",
    "import numpy as np\n",
    "\n",
    "from sklearn.cluster import KMeans\n",
    "from sklearn.preprocessing import StandardScaler\n",
    "from sklearn.decomposition import PCA\n",
    "from tqdm.notebook import tqdm"
   ]
  },
  {
   "cell_type": "code",
   "execution_count": 18,
   "id": "13781adf-5d94-4b52-a057-e224f816cd46",
   "metadata": {},
   "outputs": [],
   "source": [
    "KEPADATAN = 'data/grid_kepadatan_penduduk.geojson'\n",
    "FASKES = 'data/akses_puskesmas_30.geojson'\n",
    "BEBAN = 'data/beban_puskesmas.csv'\n",
    "RESULT = 'data/kemudahan_akses_ntb.geojson'"
   ]
  },
  {
   "cell_type": "code",
   "execution_count": 19,
   "id": "46608323-6ec4-4f4d-93db-be44c31bf41c",
   "metadata": {},
   "outputs": [],
   "source": [
    "faskes = gpd.read_file(FASKES)\n",
    "kepadatan = gpd.read_file(KEPADATAN)"
   ]
  },
  {
   "cell_type": "code",
   "execution_count": 20,
   "id": "97d39ffa-0bda-4c24-98e6-621376068525",
   "metadata": {},
   "outputs": [],
   "source": [
    "kepadatan = kepadatan.drop_duplicates('id', keep='first')"
   ]
  },
  {
   "cell_type": "code",
   "execution_count": 21,
   "id": "8f2a1479-ed27-48da-98a2-978b26439ed4",
   "metadata": {},
   "outputs": [],
   "source": [
    "merged = pd.merge(kepadatan, faskes[['id_left', 'kdppk', 'nmppk', 'distance', 'total_doctors']], left_on='id', right_on='id_left', how='left')"
   ]
  },
  {
   "cell_type": "code",
   "execution_count": 22,
   "id": "790ec07a-655e-4573-8ae7-15107d9fdce6",
   "metadata": {},
   "outputs": [],
   "source": [
    "merged = pd.merge(kepadatan, faskes[['id_left', 'kdppk', 'nmppk', 'distance', 'total_doctors', 'geometry']], how='left')"
   ]
  },
  {
   "cell_type": "code",
   "execution_count": 23,
   "id": "61b377cc-b932-4e07-8371-cbd6026a6530",
   "metadata": {},
   "outputs": [],
   "source": [
    "beban = merged.groupby('kdppk').agg({'pdd_grid_desa': 'sum'}).reset_index()\n",
    "beban = beban.rename(columns={'pdd_grid_desa': 'beban_faskes'})"
   ]
  },
  {
   "cell_type": "code",
   "execution_count": 24,
   "id": "39b17cff-e7e2-498e-b3e0-3e4a31761abb",
   "metadata": {},
   "outputs": [],
   "source": [
    "beban.to_csv(BEBAN)"
   ]
  },
  {
   "cell_type": "code",
   "execution_count": 25,
   "id": "d0f52ba1-65e7-4b6f-b324-a69cf4fb7517",
   "metadata": {},
   "outputs": [],
   "source": [
    "merged_beban = pd.merge(merged, beban)"
   ]
  },
  {
   "cell_type": "code",
   "execution_count": 26,
   "id": "25191c3f-5408-46ea-b299-46fee1343513",
   "metadata": {},
   "outputs": [],
   "source": [
    "final = merged_beban[['id', 'distance', 'total_doctors', 'beban_faskes']]"
   ]
  },
  {
   "cell_type": "code",
   "execution_count": 27,
   "id": "e1844e12-d835-4337-804d-99edeb473e23",
   "metadata": {},
   "outputs": [],
   "source": [
    "scaler = StandardScaler()\n",
    "df_scaled = scaler.fit_transform(final[['distance', 'total_doctors', 'beban_faskes']])"
   ]
  },
  {
   "cell_type": "code",
   "execution_count": 28,
   "id": "a78616f0-24c2-4b9b-bfea-3a8e5f1d08f0",
   "metadata": {},
   "outputs": [
    {
     "name": "stderr",
     "output_type": "stream",
     "text": [
      "C:\\Users\\Acer\\AppData\\Local\\Temp\\ipykernel_20236\\3391312659.py:4: SettingWithCopyWarning: \n",
      "A value is trying to be set on a copy of a slice from a DataFrame.\n",
      "Try using .loc[row_indexer,col_indexer] = value instead\n",
      "\n",
      "See the caveats in the documentation: https://pandas.pydata.org/pandas-docs/stable/user_guide/indexing.html#returning-a-view-versus-a-copy\n",
      "  final.loc[:, 'Cluster'] = labels\n",
      "C:\\Users\\Acer\\AppData\\Local\\Temp\\ipykernel_20236\\3391312659.py:15: SettingWithCopyWarning: \n",
      "A value is trying to be set on a copy of a slice from a DataFrame.\n",
      "Try using .loc[row_indexer,col_indexer] = value instead\n",
      "\n",
      "See the caveats in the documentation: https://pandas.pydata.org/pandas-docs/stable/user_guide/indexing.html#returning-a-view-versus-a-copy\n",
      "  final.loc[:, 'Access_Label'] = final['Cluster'].apply(lambda x: 'Good' if x == 1 else 'Bad')\n"
     ]
    }
   ],
   "source": [
    "kmeans = KMeans(n_clusters=2, random_state=42)\n",
    "labels = kmeans.fit_predict(df_scaled)\n",
    "\n",
    "final.loc[:, 'Cluster'] = labels\n",
    "\n",
    "centroids = kmeans.cluster_centers_\n",
    "centroids_df = pd.DataFrame(centroids, columns=['distance', 'total_doctors', 'beban_faskes'])\n",
    "\n",
    "good_access_cluster = centroids_df.idxmin(axis=0)\n",
    "bad_access_cluster = centroids_df.idxmax(axis=0)\n",
    "\n",
    "if centroids_df.loc[0, 'distance'] < centroids_df.loc[1, 'distance']:\n",
    "    final.loc[:, 'Access_Label'] = final['Cluster'].apply(lambda x: 'Good' if x == 0 else 'Bad')\n",
    "else:\n",
    "    final.loc[:, 'Access_Label'] = final['Cluster'].apply(lambda x: 'Good' if x == 1 else 'Bad')"
   ]
  },
  {
   "cell_type": "code",
   "execution_count": 29,
   "id": "afb411e5-db09-4e8b-9282-0786a09a4f3e",
   "metadata": {},
   "outputs": [],
   "source": [
    "grid = merged.loc[merged['id_left'].isnull()==False, ['id', 'geometry']]"
   ]
  },
  {
   "cell_type": "code",
   "execution_count": 30,
   "id": "a997ec93-4d9d-4640-8864-2bf31a1c930d",
   "metadata": {},
   "outputs": [],
   "source": [
    "result = pd.merge(final[['id', 'Access_Label']], grid, how='right')\n",
    "result.loc[result['Access_Label'].isnull()==True, 'Access_Label'] = 'Bad'\n",
    "result = pd.merge(result, kepadatan[['id', 'geometry']], how='right')\n",
    "result.loc[result['Access_Label'].isnull()==True, 'Access_Label'] = 'Unpopulated'\n",
    "result = gpd.GeoDataFrame(result, geometry='geometry')"
   ]
  },
  {
   "cell_type": "code",
   "execution_count": null,
   "id": "a3b9e072-43c8-4c7e-a69f-3d1dbd7a800d",
   "metadata": {},
   "outputs": [],
   "source": [
    "result.to_file(RESULT)"
   ]
  },
  {
   "cell_type": "code",
   "execution_count": null,
   "id": "181ff5be-edfd-40ff-89f2-fa6a58d3b646",
   "metadata": {},
   "outputs": [],
   "source": []
  }
 ],
 "metadata": {
  "kernelspec": {
   "display_name": "Python 3 (ipykernel)",
   "language": "python",
   "name": "python3"
  },
  "language_info": {
   "codemirror_mode": {
    "name": "ipython",
    "version": 3
   },
   "file_extension": ".py",
   "mimetype": "text/x-python",
   "name": "python",
   "nbconvert_exporter": "python",
   "pygments_lexer": "ipython3",
   "version": "3.12.3"
  }
 },
 "nbformat": 4,
 "nbformat_minor": 5
}
