{
 "cells": [
  {
   "cell_type": "code",
   "execution_count": 1,
   "id": "bb07c877-60de-4db5-a700-321ce9f77649",
   "metadata": {},
   "outputs": [],
   "source": [
    "import osmnx as ox\n",
    "import networkx as nx\n",
    "import matplotlib.pyplot as plt\n",
    "import folium\n",
    "import pandas as pd\n",
    "import geopandas as gpd\n",
    "import os\n",
    "import numpy as np\n",
    "import pickle\n",
    "import io\n",
    "import fiona\n",
    "\n",
    "from PIL import Image\n",
    "from tqdm.notebook import tqdm\n",
    "from pyproj import Transformer\n",
    "from shapely.geometry import LineString, Point"
   ]
  },
  {
   "cell_type": "code",
   "execution_count": 7,
   "id": "3bce671e-138b-4e84-80db-af14111ae255",
   "metadata": {},
   "outputs": [],
   "source": [
    "GRID = 'data/joined.geojson'\n",
    "GRAPH = 'data/ntb_graph.pickle'\n",
    "FASKES = 'data/rs_bpjs.xlsx'\n",
    "RADIUS = 10000\n",
    "RESULT = 'data/akses_rs_30.geojson'"
   ]
  },
  {
   "cell_type": "code",
   "execution_count": 3,
   "id": "47a8e2c1-de18-4661-b42c-daa5baba7632",
   "metadata": {},
   "outputs": [],
   "source": [
    "with open(GRAPH, 'rb') as f:\n",
    "    graph = pickle.load(f)"
   ]
  },
  {
   "cell_type": "code",
   "execution_count": 4,
   "id": "63a79f86-1bbc-4995-a267-2ea8eded8cd7",
   "metadata": {},
   "outputs": [],
   "source": [
    "joined_gdf = gpd.read_file(GRID).to_crs('epsg:3857')"
   ]
  },
  {
   "cell_type": "code",
   "execution_count": 5,
   "id": "23050125-5681-4cda-b04b-20e36fb1511c",
   "metadata": {},
   "outputs": [],
   "source": [
    "joined_gdf['centroid'] = joined_gdf['geometry'].centroid"
   ]
  },
  {
   "cell_type": "code",
   "execution_count": 10,
   "id": "5bed302b-d502-4f1a-a862-5b6333f2284b",
   "metadata": {},
   "outputs": [],
   "source": [
    "faskes = pd.read_excel(FASKES, dtype=str)"
   ]
  },
  {
   "cell_type": "code",
   "execution_count": 11,
   "id": "a648da79-1d58-418e-8aed-61d4d71e1af6",
   "metadata": {},
   "outputs": [],
   "source": [
    "faskes_ntb = faskes.loc[faskes['prov']=='NUSA TENGGARA BARAT']"
   ]
  },
  {
   "cell_type": "code",
   "execution_count": 12,
   "id": "9c0b43c9-8693-4cbb-b46e-0f57e9ceb09d",
   "metadata": {},
   "outputs": [],
   "source": [
    "amenities_node = gpd.GeoDataFrame(\n",
    "    faskes_ntb,\n",
    "    geometry=gpd.points_from_xy(\n",
    "        faskes_ntb['lng'],\n",
    "        faskes_ntb['lat']\n",
    "    )\n",
    ")\n",
    "amenities_node = amenities_node.set_crs(\"EPSG:4326\")"
   ]
  },
  {
   "cell_type": "code",
   "execution_count": 13,
   "id": "3efacccc-0634-4510-a724-a55fa9e58f13",
   "metadata": {},
   "outputs": [],
   "source": [
    "joined_gdf['centroid'] = joined_gdf['centroid'].to_crs('epsg:4326')"
   ]
  },
  {
   "cell_type": "code",
   "execution_count": 14,
   "id": "64923ab4-81d7-47a1-826b-38b7eac46d62",
   "metadata": {},
   "outputs": [],
   "source": [
    "# Create a function to calculate the distance along the road network\n",
    "def calculate_distance_along_network(graph, start_node, end_node, weight=\"length\"):\n",
    "    try:\n",
    "        path = nx.shortest_path(graph, source=start_node, target=end_node, weight=weight)\n",
    "        path_length = nx.shortest_path_length(graph, source=start_node, target=end_node, weight=weight)\n",
    "        return path, path_length\n",
    "    except nx.NetworkXNoPath:\n",
    "        return [], float('inf')"
   ]
  },
  {
   "cell_type": "code",
   "execution_count": 15,
   "id": "f7757209-cc68-49be-bead-62ac8959e3cd",
   "metadata": {},
   "outputs": [],
   "source": [
    "trans_3857 = Transformer.from_crs('EPSG:4326', 'EPSG:3857')\n",
    "trans_4326 = Transformer.from_crs('EPSG:3857', 'EPSG:4326')"
   ]
  },
  {
   "cell_type": "code",
   "execution_count": 16,
   "id": "6bfefd7f-d7cc-4054-8018-b72a39960c06",
   "metadata": {},
   "outputs": [
    {
     "data": {
      "application/vnd.jupyter.widget-view+json": {
       "model_id": "d00da6f5ae8f4f2d9f580a5d0a6ac833",
       "version_major": 2,
       "version_minor": 0
      },
      "text/plain": [
       "GRID:   0%|          | 0/6146 [00:00<?, ?it/s]"
      ]
     },
     "metadata": {},
     "output_type": "display_data"
    },
    {
     "ename": "KeyboardInterrupt",
     "evalue": "",
     "output_type": "error",
     "traceback": [
      "\u001b[1;31m---------------------------------------------------------------------------\u001b[0m",
      "\u001b[1;31mKeyboardInterrupt\u001b[0m                         Traceback (most recent call last)",
      "Cell \u001b[1;32mIn[16], line 10\u001b[0m\n\u001b[0;32m      7\u001b[0m closest_distance \u001b[38;5;241m=\u001b[39m \u001b[38;5;28mfloat\u001b[39m(\u001b[38;5;124m'\u001b[39m\u001b[38;5;124minf\u001b[39m\u001b[38;5;124m'\u001b[39m)\n\u001b[0;32m      8\u001b[0m best_path \u001b[38;5;241m=\u001b[39m \u001b[38;5;28;01mNone\u001b[39;00m\n\u001b[1;32m---> 10\u001b[0m poi_node \u001b[38;5;241m=\u001b[39m ox\u001b[38;5;241m.\u001b[39mdistance\u001b[38;5;241m.\u001b[39mnearest_nodes(graph, i\u001b[38;5;241m.\u001b[39mx, i\u001b[38;5;241m.\u001b[39my)\n\u001b[0;32m     11\u001b[0m buff \u001b[38;5;241m=\u001b[39m gpd\u001b[38;5;241m.\u001b[39mGeoDataFrame(\n\u001b[0;32m     12\u001b[0m     geometry\u001b[38;5;241m=\u001b[39m[\n\u001b[0;32m     13\u001b[0m         Point(\n\u001b[1;32m   (...)\u001b[0m\n\u001b[0;32m     19\u001b[0m     ]\n\u001b[0;32m     20\u001b[0m )\n\u001b[0;32m     21\u001b[0m buff\u001b[38;5;241m.\u001b[39mcrs \u001b[38;5;241m=\u001b[39m \u001b[38;5;124m'\u001b[39m\u001b[38;5;124mEPSG:3857\u001b[39m\u001b[38;5;124m'\u001b[39m\n",
      "File \u001b[1;32m~\\.conda\\envs\\geoanalisis\\Lib\\site-packages\\osmnx\\distance.py:285\u001b[0m, in \u001b[0;36mnearest_nodes\u001b[1;34m(G, X, Y, return_dist)\u001b[0m\n\u001b[0;32m    283\u001b[0m     msg \u001b[38;5;241m=\u001b[39m \u001b[38;5;124m\"\u001b[39m\u001b[38;5;124m`X` and `Y` cannot contain nulls\u001b[39m\u001b[38;5;124m\"\u001b[39m\n\u001b[0;32m    284\u001b[0m     \u001b[38;5;28;01mraise\u001b[39;00m \u001b[38;5;167;01mValueError\u001b[39;00m(msg)\n\u001b[1;32m--> 285\u001b[0m nodes \u001b[38;5;241m=\u001b[39m convert\u001b[38;5;241m.\u001b[39mgraph_to_gdfs(G, edges\u001b[38;5;241m=\u001b[39m\u001b[38;5;28;01mFalse\u001b[39;00m, node_geometry\u001b[38;5;241m=\u001b[39m\u001b[38;5;28;01mFalse\u001b[39;00m)[[\u001b[38;5;124m\"\u001b[39m\u001b[38;5;124mx\u001b[39m\u001b[38;5;124m\"\u001b[39m, \u001b[38;5;124m\"\u001b[39m\u001b[38;5;124my\u001b[39m\u001b[38;5;124m\"\u001b[39m]]\n\u001b[0;32m    287\u001b[0m \u001b[38;5;28;01mif\u001b[39;00m projection\u001b[38;5;241m.\u001b[39mis_projected(G\u001b[38;5;241m.\u001b[39mgraph[\u001b[38;5;124m\"\u001b[39m\u001b[38;5;124mcrs\u001b[39m\u001b[38;5;124m\"\u001b[39m]):\n\u001b[0;32m    288\u001b[0m     \u001b[38;5;66;03m# if projected, use k-d tree for euclidean nearest-neighbor search\u001b[39;00m\n\u001b[0;32m    289\u001b[0m     \u001b[38;5;28;01mif\u001b[39;00m cKDTree \u001b[38;5;129;01mis\u001b[39;00m \u001b[38;5;28;01mNone\u001b[39;00m:  \u001b[38;5;66;03m# pragma: no cover\u001b[39;00m\n",
      "File \u001b[1;32m~\\.conda\\envs\\geoanalisis\\Lib\\site-packages\\osmnx\\convert.py:55\u001b[0m, in \u001b[0;36mgraph_to_gdfs\u001b[1;34m(G, nodes, edges, node_geometry, fill_edge_geometry)\u001b[0m\n\u001b[0;32m     53\u001b[0m     gdf_nodes \u001b[38;5;241m=\u001b[39m gpd\u001b[38;5;241m.\u001b[39mGeoDataFrame(data, index\u001b[38;5;241m=\u001b[39muvk, crs\u001b[38;5;241m=\u001b[39mcrs, geometry\u001b[38;5;241m=\u001b[39m\u001b[38;5;28mlist\u001b[39m(node_geoms))\n\u001b[0;32m     54\u001b[0m \u001b[38;5;28;01melse\u001b[39;00m:\n\u001b[1;32m---> 55\u001b[0m     gdf_nodes \u001b[38;5;241m=\u001b[39m gpd\u001b[38;5;241m.\u001b[39mGeoDataFrame(data, index\u001b[38;5;241m=\u001b[39muvk)\n\u001b[0;32m     57\u001b[0m gdf_nodes\u001b[38;5;241m.\u001b[39mindex \u001b[38;5;241m=\u001b[39m gdf_nodes\u001b[38;5;241m.\u001b[39mindex\u001b[38;5;241m.\u001b[39mrename(\u001b[38;5;124m\"\u001b[39m\u001b[38;5;124mosmid\u001b[39m\u001b[38;5;124m\"\u001b[39m)\n\u001b[0;32m     58\u001b[0m utils\u001b[38;5;241m.\u001b[39mlog(\u001b[38;5;124m\"\u001b[39m\u001b[38;5;124mCreated nodes GeoDataFrame from graph\u001b[39m\u001b[38;5;124m\"\u001b[39m)\n",
      "File \u001b[1;32m~\\.conda\\envs\\geoanalisis\\Lib\\site-packages\\geopandas\\geodataframe.py:131\u001b[0m, in \u001b[0;36mGeoDataFrame.__init__\u001b[1;34m(self, data, geometry, crs, *args, **kwargs)\u001b[0m\n\u001b[0;32m    127\u001b[0m _internal_names_set \u001b[38;5;241m=\u001b[39m \u001b[38;5;28mset\u001b[39m(_internal_names)\n\u001b[0;32m    129\u001b[0m _geometry_column_name \u001b[38;5;241m=\u001b[39m \u001b[38;5;28;01mNone\u001b[39;00m\n\u001b[1;32m--> 131\u001b[0m \u001b[38;5;28;01mdef\u001b[39;00m \u001b[38;5;21m__init__\u001b[39m(\u001b[38;5;28mself\u001b[39m, data\u001b[38;5;241m=\u001b[39m\u001b[38;5;28;01mNone\u001b[39;00m, \u001b[38;5;241m*\u001b[39margs, geometry\u001b[38;5;241m=\u001b[39m\u001b[38;5;28;01mNone\u001b[39;00m, crs\u001b[38;5;241m=\u001b[39m\u001b[38;5;28;01mNone\u001b[39;00m, \u001b[38;5;241m*\u001b[39m\u001b[38;5;241m*\u001b[39mkwargs):\n\u001b[0;32m    132\u001b[0m     \u001b[38;5;28;01mwith\u001b[39;00m compat\u001b[38;5;241m.\u001b[39mignore_shapely2_warnings():\n\u001b[0;32m    133\u001b[0m         \u001b[38;5;28;01mif\u001b[39;00m (\n\u001b[0;32m    134\u001b[0m             kwargs\u001b[38;5;241m.\u001b[39mget(\u001b[38;5;124m\"\u001b[39m\u001b[38;5;124mcopy\u001b[39m\u001b[38;5;124m\"\u001b[39m) \u001b[38;5;129;01mis\u001b[39;00m \u001b[38;5;28;01mNone\u001b[39;00m\n\u001b[0;32m    135\u001b[0m             \u001b[38;5;129;01mand\u001b[39;00m \u001b[38;5;28misinstance\u001b[39m(data, DataFrame)\n\u001b[0;32m    136\u001b[0m             \u001b[38;5;129;01mand\u001b[39;00m \u001b[38;5;129;01mnot\u001b[39;00m \u001b[38;5;28misinstance\u001b[39m(data, GeoDataFrame)\n\u001b[0;32m    137\u001b[0m         ):\n",
      "\u001b[1;31mKeyboardInterrupt\u001b[0m: "
     ]
    }
   ],
   "source": [
    "facilities = []\n",
    "distances = []\n",
    "\n",
    "for i in tqdm(joined_gdf['centroid'], desc='GRID', position=0):\n",
    "    # Find the closest hospital using Dijkstra's algorithm\n",
    "    closest_facility = None\n",
    "    closest_distance = float('inf')\n",
    "    best_path = None\n",
    "\n",
    "    poi_node = ox.distance.nearest_nodes(graph, i.x, i.y)\n",
    "    buff = gpd.GeoDataFrame(\n",
    "        geometry=[\n",
    "            Point(\n",
    "                trans_3857.transform(\n",
    "                    i.y,\n",
    "                    i.x\n",
    "                )\n",
    "            ).buffer(RADIUS)\n",
    "        ]\n",
    "    )\n",
    "    buff.crs = 'EPSG:3857'\n",
    "    buff = buff.to_crs('EPSG:4326')\n",
    "\n",
    "    temp = gpd.sjoin(\n",
    "        amenities_node,\n",
    "        buff,\n",
    "        how='inner',\n",
    "        predicate='intersects'\n",
    "    )\n",
    "\n",
    "    if not temp.empty:\n",
    "        for idx, facility in tqdm(\n",
    "            temp.iterrows(),\n",
    "            desc='LOOKING FOR FACILITIES',\n",
    "            leave=False,\n",
    "            total=temp.shape[0],\n",
    "            position=1\n",
    "        ):\n",
    "            facility_coords = (facility['geometry'].y, facility['geometry'].x)\n",
    "\n",
    "            # Find the nearest network node to the hospital\n",
    "            facility_node = ox.distance.nearest_nodes(\n",
    "                graph, facility_coords[1], facility_coords[0]\n",
    "            )\n",
    "\n",
    "            # Calculate the distance along the road network from the POI to the hospital\n",
    "            path, distance = calculate_distance_along_network(\n",
    "                graph, poi_node, facility_node, weight=\"length\"\n",
    "            )\n",
    "\n",
    "            if distance < closest_distance:\n",
    "                closest_distance = distance\n",
    "                closest_facility = facility['kdppk']\n",
    "                best_path = path\n",
    "\n",
    "        facilities.append(closest_facility)\n",
    "        distances.append(closest_distance)\n",
    "\n",
    "    else:\n",
    "        facilities.append(closest_facility)\n",
    "        distances.append(closest_distance)"
   ]
  },
  {
   "cell_type": "code",
   "execution_count": 25,
   "id": "3e1e22f3-0307-455c-9aad-2d8de4750bef",
   "metadata": {},
   "outputs": [],
   "source": [
    "# Add the list as a new column\n",
    "joined_gdf['facility'] = facilities\n",
    "joined_gdf['distance'] = distances\n",
    "joined_gdf.loc[joined_gdf['distance']==np.inf, 'distance'] = 100000"
   ]
  },
  {
   "cell_type": "code",
   "execution_count": 7,
   "id": "f4b0b872-6975-4fc0-b19f-9b197b97ad64",
   "metadata": {},
   "outputs": [],
   "source": [
    "pd.merge(\n",
    "    joined_gdf,\n",
    "    faskes_ntb[['kdppk', 'nmppk', 'total_doctors']],\n",
    "    left_on='facility',\n",
    "    right_on='kdppk',\n",
    "    how='left'\n",
    ").to_file(RESULT)"
   ]
  },
  {
   "cell_type": "code",
   "execution_count": null,
   "id": "23c8c63e-61d2-4feb-9f06-6c993b53a5d4",
   "metadata": {},
   "outputs": [],
   "source": []
  }
 ],
 "metadata": {
  "kernelspec": {
   "display_name": "Python 3 (ipykernel)",
   "language": "python",
   "name": "python3"
  },
  "language_info": {
   "codemirror_mode": {
    "name": "ipython",
    "version": 3
   },
   "file_extension": ".py",
   "mimetype": "text/x-python",
   "name": "python",
   "nbconvert_exporter": "python",
   "pygments_lexer": "ipython3",
   "version": "3.12.3"
  }
 },
 "nbformat": 4,
 "nbformat_minor": 5
}
