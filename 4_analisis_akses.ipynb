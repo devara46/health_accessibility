{
 "cells": [
  {
   "cell_type": "code",
   "execution_count": 1,
   "id": "5a5d8a94-0c97-44e5-bb2e-9d059bb4be6b",
   "metadata": {},
   "outputs": [],
   "source": [
    "import matplotlib.pyplot as plt\n",
    "import pandas as pd\n",
    "import geopandas as gpd\n",
    "import os\n",
    "import numpy as np\n",
    "\n",
    "from sklearn.cluster import KMeans\n",
    "from sklearn.preprocessing import StandardScaler\n",
    "from sklearn.decomposition import PCA\n",
    "from tqdm.notebook import tqdm"
   ]
  },
  {
   "cell_type": "code",
   "execution_count": 4,
   "id": "3aba0d4f-5ff2-4529-980e-f1a27d73fd52",
   "metadata": {},
   "outputs": [],
   "source": [
    "AKSES = 'data/kemudahan_akses_ntb.geojson'\n",
    "FASKES = 'data/puskesmas_dokter_ntb.geojson'\n",
    "SLOPE = 'data/centroid_slope_grid.geojson'\n",
    "ELEVATION = 'data/centroid_elevation_grid.geojson'\n",
    "RIVER = 'data/osm_ntb_river.geojson'\n",
    "RESULT = 'data/new_facility_analysis_rs.geojson'"
   ]
  },
  {
   "cell_type": "code",
   "execution_count": 5,
   "id": "637de2dd-e8ca-4ba5-bb8f-b798e49c19d6",
   "metadata": {},
   "outputs": [],
   "source": [
    "akses = gpd.read_file(AKSES)\n",
    "slope = gpd.read_file(SLOPE)\n",
    "elevation = gpd.read_file(ELEVATION)\n",
    "river = gpd.read_file(RIVER)\n",
    "faskes = gpd.read_file(FASKES)"
   ]
  },
  {
   "cell_type": "code",
   "execution_count": 7,
   "id": "011e36fe-9509-4ed5-83f9-742dc6a64871",
   "metadata": {},
   "outputs": [],
   "source": [
    "df = gpd.sjoin(akses, slope[['Slope1', 'geometry']])\n",
    "df = df.drop('index_right', axis=1)\n",
    "df = gpd.sjoin(df, elevation[['Elevation1', 'geometry']])\n",
    "df = df.drop('index_right', axis=1)"
   ]
  },
  {
   "cell_type": "code",
   "execution_count": 8,
   "id": "463e2a5f-3bfc-4094-859a-69fb773a18bf",
   "metadata": {},
   "outputs": [],
   "source": [
    "df.loc[df['Slope1'].isnull()==True, 'Slope1'] = df['Slope1'].min()\n",
    "df.loc[df['Elevation1'].isnull()==True, 'Elevation1'] = df['Elevation1'].min()"
   ]
  },
  {
   "cell_type": "code",
   "execution_count": 9,
   "id": "833b9e63-4370-4f8d-bf7e-16061bfdc9d8",
   "metadata": {},
   "outputs": [],
   "source": [
    "river = river.to_crs(epsg='3857')\n",
    "river['geometry'] = river['geometry'].buffer(distance=100)"
   ]
  },
  {
   "cell_type": "code",
   "execution_count": 10,
   "id": "3b795225-42fc-44a7-9a76-576e514ff2ff",
   "metadata": {},
   "outputs": [],
   "source": [
    "df = gpd.sjoin(df, river[['waterway', 'geometry']], how='left')\n",
    "df = df.drop('index_right', axis=1)\n",
    "df = df.drop_duplicates('id')"
   ]
  },
  {
   "cell_type": "code",
   "execution_count": 11,
   "id": "7fb886f0-78ad-46a9-922a-1d3a564c2972",
   "metadata": {},
   "outputs": [],
   "source": [
    "df.loc[df['waterway'].isnull()==True, 'waterway'] = 'land'"
   ]
  },
  {
   "cell_type": "code",
   "execution_count": 12,
   "id": "381aa587-9f28-47e5-8a82-f6375c5fe4c4",
   "metadata": {},
   "outputs": [],
   "source": [
    "faskes = faskes.to_crs(epsg='3857')\n",
    "faskes['geometry'] = faskes['geometry'].buffer(distance=5000)"
   ]
  },
  {
   "cell_type": "code",
   "execution_count": 13,
   "id": "1c2c44c8-1121-450d-b0c0-f9cc50fb7dfc",
   "metadata": {},
   "outputs": [],
   "source": [
    "faskes.loc[:, 'facility'] = 'available'"
   ]
  },
  {
   "cell_type": "code",
   "execution_count": 14,
   "id": "da7f9845-996d-411a-9d5d-e36de819e3f2",
   "metadata": {},
   "outputs": [],
   "source": [
    "df = gpd.sjoin(df, faskes[['facility', 'geometry']], how='left')\n",
    "df = df.drop('index_right', axis=1)\n",
    "df = df.drop_duplicates('id')"
   ]
  },
  {
   "cell_type": "code",
   "execution_count": 15,
   "id": "62a15fc4-f4fa-43d4-bc45-6f81cc74e759",
   "metadata": {},
   "outputs": [],
   "source": [
    "df.loc[df['facility'].isnull()==True, 'facility'] = 'unavailable'"
   ]
  },
  {
   "cell_type": "code",
   "execution_count": 16,
   "id": "6c21e900-2801-47a5-9955-1e4e684c8c4a",
   "metadata": {},
   "outputs": [],
   "source": [
    "df = df.loc[\n",
    "    (df['facility']=='unavailable')\n",
    "    & (df['waterway']=='land')\n",
    "    & (df['Slope1']<15)\n",
    "    & (df['Access_Label']=='Bad')\n",
    "]"
   ]
  },
  {
   "cell_type": "code",
   "execution_count": 55,
   "id": "c7fd245b-4ea8-475f-a208-2f3a3cc35d97",
   "metadata": {},
   "outputs": [],
   "source": [
    "df.to_file(RESULT)"
   ]
  },
  {
   "cell_type": "code",
   "execution_count": null,
   "id": "c60a02f7-a804-40cb-80d9-eda2cc92b41e",
   "metadata": {},
   "outputs": [],
   "source": []
  }
 ],
 "metadata": {
  "kernelspec": {
   "display_name": "Python 3 (ipykernel)",
   "language": "python",
   "name": "python3"
  },
  "language_info": {
   "codemirror_mode": {
    "name": "ipython",
    "version": 3
   },
   "file_extension": ".py",
   "mimetype": "text/x-python",
   "name": "python",
   "nbconvert_exporter": "python",
   "pygments_lexer": "ipython3",
   "version": "3.12.3"
  }
 },
 "nbformat": 4,
 "nbformat_minor": 5
}
