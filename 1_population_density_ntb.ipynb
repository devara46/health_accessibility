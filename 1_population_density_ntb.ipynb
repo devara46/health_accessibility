{
 "cells": [
  {
   "cell_type": "code",
   "execution_count": null,
   "metadata": {
    "id": "N3fhz8BSbYp_"
   },
   "outputs": [],
   "source": [
    "import geopandas as gpd\n",
    "import numpy as np\n",
    "import pandas as pd\n",
    "import libpysal"
   ]
  },
  {
   "cell_type": "code",
   "execution_count": null,
   "metadata": {
    "id": "YzZ2QJ0M49K-"
   },
   "outputs": [],
   "source": [
    "import warnings\n",
    "\n",
    "warnings.filterwarnings('ignore', category=RuntimeWarning)\n",
    "warnings.filterwarnings(\"ignore\", category=FutureWarning)\n",
    "warnings.filterwarnings(\"ignore\", category=UserWarning)"
   ]
  },
  {
   "cell_type": "code",
   "execution_count": null,
   "metadata": {
    "id": "NO6iCsAJ5NTE"
   },
   "outputs": [],
   "source": [
    "pdd_path = 'data/dukcapil_penduduk_ntb.gpkg'\n",
    "grid_path = 'data/grid_prov_52.geojson'\n",
    "builtup_paths = '/content/MyDrive/MyDrive/NTB/Wilkerstat REGSOSEK/tag_regsosek.geojson'\n",
    "dir_result = '/content/MyDrive/MyDrive/NTB'"
   ]
  },
  {
   "cell_type": "code",
   "execution_count": null,
   "metadata": {
    "id": "eKg7Iq40VU9O"
   },
   "outputs": [],
   "source": [
    "builtup = gpd.read_file(builtup_paths).to_crs(epsg='3857')\n",
    "grid = gpd.read_file(grid_path).to_crs(epsg='3857')\n",
    "pdd = gpd.read_file(pdd_path).to_crs(epsg='3857')"
   ]
  },
  {
   "cell_type": "code",
   "execution_count": null,
   "metadata": {
    "id": "34k7Z1DBADGJ"
   },
   "outputs": [],
   "source": [
    "pdd['kode_desa_spatial'] = pdd['kode_desa_spatial'].astype(str)"
   ]
  },
  {
   "cell_type": "code",
   "execution_count": null,
   "metadata": {
    "id": "n0Z6njhud6vo"
   },
   "outputs": [],
   "source": [
    "points_in_regions = gpd.sjoin(builtup, pdd, how=\"inner\", predicate=\"within\")\n",
    "points_in_regions_count = points_in_regions.groupby('index_right').size()\n",
    "\n",
    "pdd['jml_bgn'] = pdd.index.map(points_in_regions_count).fillna(0).astype(int)"
   ]
  },
  {
   "cell_type": "code",
   "execution_count": null,
   "metadata": {
    "id": "HyecaTLCC19N"
   },
   "outputs": [],
   "source": [
    "grid_desa = gpd.overlay(pdd, grid, how=\"intersection\")"
   ]
  },
  {
   "cell_type": "code",
   "execution_count": null,
   "metadata": {
    "id": "2V0wVM2vjM_6"
   },
   "outputs": [],
   "source": [
    "points_in_grids = gpd.sjoin(builtup, grid_desa, how=\"inner\", predicate=\"within\")\n",
    "points_in_grids_count = points_in_grids.groupby('index_right').size()\n",
    "\n",
    "grid_desa['jml_bgn_grid'] = grid_desa.index.map(points_in_grids_count).fillna(0).astype(int)"
   ]
  },
  {
   "cell_type": "code",
   "execution_count": null,
   "metadata": {
    "id": "zA_Avbv1mm4J"
   },
   "outputs": [],
   "source": [
    "grid_desa = grid_desa.merge(pdd[['jumlah_penduduk', 'kode_desa_spatial']], how='left')\n",
    "grid_desa['pdd_grid_desa'] = grid_desa['jumlah_penduduk'] * grid_desa['jml_bgn_grid'] / grid_desa['jml_bgn']"
   ]
  },
  {
   "cell_type": "code",
   "execution_count": null,
   "metadata": {
    "id": "Ir_e3w0mmv_c"
   },
   "outputs": [],
   "source": [
    "total_population_in_grids = grid_desa.groupby('id').agg({\n",
    "    'pdd_grid_desa': 'sum'\n",
    "}).reset_index()"
   ]
  },
  {
   "cell_type": "code",
   "execution_count": null,
   "metadata": {
    "id": "fnv2zOsiowJL"
   },
   "outputs": [],
   "source": [
    "final_result = grid_desa[['id', 'geometry']].drop_duplicates(subset='id').set_index('id')"
   ]
  },
  {
   "cell_type": "code",
   "execution_count": null,
   "metadata": {
    "id": "rKo2TTcrJQ7l"
   },
   "outputs": [],
   "source": [
    "temp = gpd.sjoin(grid, pdd, how=\"inner\", predicate=\"intersects\")\n",
    "grid_ntb = temp[grid.columns]"
   ]
  },
  {
   "cell_type": "code",
   "execution_count": null,
   "metadata": {
    "id": "fxCVyp4no0rh"
   },
   "outputs": [],
   "source": [
    "final_result = grid_ntb.merge(total_population_in_grids, on='id', how='left')\n",
    "\n",
    "final_result['pdd_grid_desa'] = final_result['pdd_grid_desa'].fillna(0)"
   ]
  },
  {
   "cell_type": "code",
   "execution_count": null,
   "metadata": {
    "id": "wHj04Eu1Gcnr"
   },
   "outputs": [],
   "source": [
    "final_result.to_file('final_grid.geojson')"
   ]
  },
  {
   "cell_type": "code",
   "execution_count": null,
   "metadata": {
    "id": "71_YJceQLdDv"
   },
   "outputs": [],
   "source": [
    "def centers(gdf, col):\n",
    "  gdf = gdf[gdf[col]>=1500]\n",
    "\n",
    "  # create spatial weights matrix\n",
    "  W = libpysal.weights.Rook.from_dataframe(gdf)\n",
    "\n",
    "  # get component labels\n",
    "  components = W.component_labels\n",
    "\n",
    "  combined_polygons = gdf.dissolve(by=components, aggfunc={col: 'sum'})\n",
    "  result = combined_polygons[combined_polygons[col]>=50000]\n",
    "  result = result.rename(columns={col: col})\n",
    "  result['luas_cluster'] = result.geometry.area\n",
    "  if not result.empty:\n",
    "    result['kelas'] = 'urban_center'\n",
    "\n",
    "  return result"
   ]
  },
  {
   "cell_type": "code",
   "execution_count": null,
   "metadata": {
    "id": "yvCwPGJwSOnZ"
   },
   "outputs": [],
   "source": [
    "def clusters(gdf, col):\n",
    "  gdf = gdf[gdf[col]>=300]\n",
    "\n",
    "  # create spatial weights matrix\n",
    "  W = libpysal.weights.Rook.from_dataframe(gdf)\n",
    "\n",
    "  # get component labels\n",
    "  components = W.component_labels\n",
    "\n",
    "  combined_polygons = gdf.dissolve(by=components, aggfunc={col: 'sum'})\n",
    "  result = combined_polygons[combined_polygons[col]>=5000]\n",
    "  result = result.rename(columns={col: col})\n",
    "  result['luas_cluster'] = result.geometry.area\n",
    "  result['kelas'] = 'urban_clusters'\n",
    "\n",
    "  return result"
   ]
  },
  {
   "cell_type": "code",
   "execution_count": null,
   "metadata": {
    "id": "v2NchUwsSSlv"
   },
   "outputs": [],
   "source": [
    "def rural(gdf, col):\n",
    "  gdf_1 = gdf[gdf[col]>=300]\n",
    "  gdf_2 = gdf[gdf[col]<300]\n",
    "\n",
    "  # create spatial weights matrix\n",
    "  W1 = libpysal.weights.Rook.from_dataframe(gdf_1)\n",
    "  W2 = libpysal.weights.Rook.from_dataframe(gdf_2)\n",
    "\n",
    "  # get component labels\n",
    "  components1 = W1.component_labels\n",
    "  components2 = W2.component_labels\n",
    "\n",
    "  combined_polygons1 = gdf_1.dissolve(by=components1, aggfunc={col: 'sum'})\n",
    "  temp1 = combined_polygons1[combined_polygons1[col]<5000]\n",
    "  temp1 = temp1.rename(columns={col: col})\n",
    "\n",
    "  temp2 = gdf_2.dissolve(by=components2, aggfunc={col: 'sum'})\n",
    "  temp2 = temp2.rename(columns={col: col})\n",
    "\n",
    "  result = gpd.GeoDataFrame(pd.concat([temp2, temp1], ignore_index=True), crs=gdf_2.crs)\n",
    "  Wr = libpysal.weights.Rook.from_dataframe(result)\n",
    "  componentsr = Wr.component_labels\n",
    "\n",
    "  result = result.dissolve(by=componentsr, aggfunc={col: 'sum'})\n",
    "  result['luas_cluster'] = result.geometry.area\n",
    "  result['kelas'] = 'rural_grid_cells'\n",
    "\n",
    "  return result"
   ]
  },
  {
   "cell_type": "code",
   "execution_count": null,
   "metadata": {
    "id": "tpusMtkISTjg"
   },
   "outputs": [],
   "source": [
    "try:\n",
    "  centers(final_result, 'pdd_grid_desa').to_file('centers.gpkg')\n",
    "except:\n",
    "  pass\n",
    "\n",
    "clusters(final_result, 'pdd_grid_desa').to_file('clusters.gpkg')\n",
    "rural(final_result, 'pdd_grid_desa').to_file('rural.gpkg')"
   ]
  },
  {
   "cell_type": "code",
   "execution_count": null,
   "metadata": {
    "id": "O53k_glQ2gQa"
   },
   "outputs": [],
   "source": []
  }
 ],
 "metadata": {
  "colab": {
   "provenance": []
  },
  "kernelspec": {
   "display_name": "Python 3 (ipykernel)",
   "language": "python",
   "name": "python3"
  },
  "language_info": {
   "codemirror_mode": {
    "name": "ipython",
    "version": 3
   },
   "file_extension": ".py",
   "mimetype": "text/x-python",
   "name": "python",
   "nbconvert_exporter": "python",
   "pygments_lexer": "ipython3",
   "version": "3.12.3"
  }
 },
 "nbformat": 4,
 "nbformat_minor": 4
}
